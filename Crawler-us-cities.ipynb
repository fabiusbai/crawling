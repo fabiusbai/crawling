{
 "cells": [
  {
   "cell_type": "code",
   "execution_count": 40,
   "id": "985b9e71",
   "metadata": {},
   "outputs": [],
   "source": [
    "import requests \n",
    "\n",
    "req = requests.get(\n",
    "    'https://en.wikipedia.org/wiki/List_of_United_States_cities_by_population')"
   ]
  },
  {
   "cell_type": "code",
   "execution_count": 41,
   "id": "f7a64860",
   "metadata": {},
   "outputs": [
    {
     "data": {
      "text/plain": [
       "<Response [200]>"
      ]
     },
     "execution_count": 41,
     "metadata": {},
     "output_type": "execute_result"
    }
   ],
   "source": [
    "req"
   ]
  },
  {
   "cell_type": "code",
   "execution_count": 42,
   "id": "b546ffaf",
   "metadata": {},
   "outputs": [],
   "source": [
    "webpage = req.text"
   ]
  },
  {
   "cell_type": "code",
   "execution_count": 43,
   "id": "d02fe2b7",
   "metadata": {},
   "outputs": [],
   "source": [
    "from bs4 import BeautifulSoup\n",
    "\n",
    "soup = BeautifulSoup(webpage, 'html.parser')"
   ]
  },
  {
   "cell_type": "code",
   "execution_count": 58,
   "id": "427bb578",
   "metadata": {},
   "outputs": [],
   "source": [
    "# Creating list with all tables\n",
    "tables = soup.find_all('table')"
   ]
  },
  {
   "cell_type": "code",
   "execution_count": 71,
   "id": "034bf6d1",
   "metadata": {},
   "outputs": [
    {
     "data": {
      "text/plain": [
       "15"
      ]
     },
     "execution_count": 71,
     "metadata": {},
     "output_type": "execute_result"
    }
   ],
   "source": [
    "len(tables)"
   ]
  },
  {
   "cell_type": "code",
   "execution_count": 46,
   "id": "53780521",
   "metadata": {},
   "outputs": [
    {
     "name": "stdout",
     "output_type": "stream",
     "text": [
      "Classes of each table:\n",
      "['noprint', 'infobox']\n",
      "['sidebar', 'nomobile', 'nowraplinks']\n",
      "['noprint', 'infobox']\n",
      "['wikitable']\n",
      "['wikitable', 'sortable']\n",
      "['wikitable']\n",
      "['wikitable']\n",
      "['noprint', 'infobox']\n",
      "['wikitable', 'sortable']\n",
      "['wikitable']\n",
      "['noprint', 'infobox']\n",
      "['wikitable', 'sortable']\n",
      "['wikitable', 'sortable']\n",
      "['nowraplinks', 'mw-collapsible', 'mw-collapsed', 'navbox-inner']\n",
      "['navbox-columns-table']\n"
     ]
    }
   ],
   "source": [
    "# Verifying tables and their classes\n",
    "print('Classes of each table:')\n",
    "for table in soup.find_all('table'):\n",
    "    print(table.get('class'))"
   ]
  },
  {
   "cell_type": "code",
   "execution_count": 74,
   "id": "2c0c89ae",
   "metadata": {},
   "outputs": [
    {
     "name": "stdout",
     "output_type": "stream",
     "text": [
      "2\n",
      "11\n",
      "2\n",
      "4\n",
      "332\n",
      "8\n",
      "17\n",
      "2\n",
      "6\n",
      "2\n",
      "2\n",
      "14\n",
      "28\n",
      "4\n",
      "1\n"
     ]
    }
   ],
   "source": [
    "# len of each table\n",
    "for i in range(len(tables)):\n",
    "    print(len(tables[i].tbody.find_all('tr')))"
   ]
  },
  {
   "cell_type": "code",
   "execution_count": 48,
   "id": "11e0f8d4",
   "metadata": {},
   "outputs": [],
   "source": [
    "import pandas as pd"
   ]
  },
  {
   "cell_type": "code",
   "execution_count": 135,
   "id": "c64e263a",
   "metadata": {},
   "outputs": [],
   "source": [
    "# Defining of the dataframe\n",
    "columnNames=['city', 'state', '2121 estimate', '2020 census', 'change', \n",
    "             '2020landarea1', '2020landarea2', '2020populationdensity1', \n",
    "             '2020populationdensity2']"
   ]
  },
  {
   "cell_type": "code",
   "execution_count": 120,
   "id": "458ff864",
   "metadata": {},
   "outputs": [
    {
     "data": {
      "text/plain": [
       "9"
      ]
     },
     "execution_count": 120,
     "metadata": {},
     "output_type": "execute_result"
    }
   ],
   "source": [
    "len(columnNames)"
   ]
  },
  {
   "cell_type": "code",
   "execution_count": 99,
   "id": "6ebb0695",
   "metadata": {},
   "outputs": [
    {
     "data": {
      "text/plain": [
       "10"
      ]
     },
     "execution_count": 99,
     "metadata": {},
     "output_type": "execute_result"
    }
   ],
   "source": [
    "len(tables[4].tbody.find_all('tr')[1].find_all('td'))"
   ]
  },
  {
   "cell_type": "code",
   "execution_count": 130,
   "id": "e74ba94f",
   "metadata": {},
   "outputs": [
    {
     "data": {
      "text/plain": [
       "'8,467,513'"
      ]
     },
     "execution_count": 130,
     "metadata": {},
     "output_type": "execute_result"
    }
   ],
   "source": [
    "tables[4].tbody.find_all('tr')[1].find_all('td')[2].text.strip('\\n')"
   ]
  },
  {
   "cell_type": "code",
   "execution_count": 138,
   "id": "e86ff754",
   "metadata": {},
   "outputs": [],
   "source": [
    "df = pd.DataFrame(columns=columnNames)\n",
    "# Collecting data for each row\n",
    "newList=[0]*(len(columnNames))\n",
    "for row in tables[4].tbody.find_all('tr'):    \n",
    "    # Find all data for each column\n",
    "    columns = row.find_all('td')\n",
    "    if(columns != []):\n",
    "        for i in range (len(newList)):\n",
    "            newList[i]=columns[i].text.strip('\\n')\n",
    "            \n",
    "        df=df.append({columnNames[j]: newList[j] for j in range(len(columnNames))}, \n",
    "                     ignore_index=True)"
   ]
  },
  {
   "cell_type": "code",
   "execution_count": 142,
   "id": "94abe7e5",
   "metadata": {},
   "outputs": [
    {
     "data": {
      "text/plain": [
       "['Norwalk',\n",
       " 'California',\n",
       " '100,373',\n",
       " '102,773',\n",
       " '−2.34%',\n",
       " '9.7\\xa0sq\\xa0mi',\n",
       " '25.1\\xa0km2',\n",
       " '10,595/sq\\xa0mi',\n",
       " '4,091/km2']"
      ]
     },
     "execution_count": 142,
     "metadata": {},
     "output_type": "execute_result"
    }
   ],
   "source": [
    "newList"
   ]
  },
  {
   "cell_type": "code",
   "execution_count": 140,
   "id": "377f2a1a",
   "metadata": {},
   "outputs": [
    {
     "data": {
      "text/html": [
       "<div>\n",
       "<style scoped>\n",
       "    .dataframe tbody tr th:only-of-type {\n",
       "        vertical-align: middle;\n",
       "    }\n",
       "\n",
       "    .dataframe tbody tr th {\n",
       "        vertical-align: top;\n",
       "    }\n",
       "\n",
       "    .dataframe thead th {\n",
       "        text-align: right;\n",
       "    }\n",
       "</style>\n",
       "<table border=\"1\" class=\"dataframe\">\n",
       "  <thead>\n",
       "    <tr style=\"text-align: right;\">\n",
       "      <th></th>\n",
       "      <th>city</th>\n",
       "      <th>state</th>\n",
       "      <th>2121 estimate</th>\n",
       "      <th>2020 census</th>\n",
       "      <th>change</th>\n",
       "      <th>2020landarea1</th>\n",
       "      <th>2020landarea2</th>\n",
       "      <th>2020populationdensity1</th>\n",
       "      <th>2020populationdensity2</th>\n",
       "    </tr>\n",
       "  </thead>\n",
       "  <tbody>\n",
       "    <tr>\n",
       "      <th>count</th>\n",
       "      <td>331</td>\n",
       "      <td>331</td>\n",
       "      <td>331</td>\n",
       "      <td>331</td>\n",
       "      <td>331</td>\n",
       "      <td>331</td>\n",
       "      <td>331</td>\n",
       "      <td>331</td>\n",
       "      <td>331</td>\n",
       "    </tr>\n",
       "    <tr>\n",
       "      <th>unique</th>\n",
       "      <td>321</td>\n",
       "      <td>46</td>\n",
       "      <td>330</td>\n",
       "      <td>331</td>\n",
       "      <td>257</td>\n",
       "      <td>300</td>\n",
       "      <td>300</td>\n",
       "      <td>321</td>\n",
       "      <td>313</td>\n",
       "    </tr>\n",
       "    <tr>\n",
       "      <th>top</th>\n",
       "      <td>Springfield</td>\n",
       "      <td>California</td>\n",
       "      <td>125,963</td>\n",
       "      <td>8,804,190</td>\n",
       "      <td>+0.44%</td>\n",
       "      <td>23.5 sq mi</td>\n",
       "      <td>60.9 km2</td>\n",
       "      <td>4,888/sq mi</td>\n",
       "      <td>1,887/km2</td>\n",
       "    </tr>\n",
       "    <tr>\n",
       "      <th>freq</th>\n",
       "      <td>3</td>\n",
       "      <td>76</td>\n",
       "      <td>2</td>\n",
       "      <td>1</td>\n",
       "      <td>4</td>\n",
       "      <td>3</td>\n",
       "      <td>3</td>\n",
       "      <td>3</td>\n",
       "      <td>3</td>\n",
       "    </tr>\n",
       "  </tbody>\n",
       "</table>\n",
       "</div>"
      ],
      "text/plain": [
       "               city       state 2121 estimate 2020 census  change  \\\n",
       "count           331         331           331         331     331   \n",
       "unique          321          46           330         331     257   \n",
       "top     Springfield  California       125,963   8,804,190  +0.44%   \n",
       "freq              3          76             2           1       4   \n",
       "\n",
       "       2020landarea1 2020landarea2 2020populationdensity1  \\\n",
       "count            331           331                    331   \n",
       "unique           300           300                    321   \n",
       "top       23.5 sq mi      60.9 km2            4,888/sq mi   \n",
       "freq               3             3                      3   \n",
       "\n",
       "       2020populationdensity2  \n",
       "count                     331  \n",
       "unique                    313  \n",
       "top                 1,887/km2  \n",
       "freq                        3  "
      ]
     },
     "execution_count": 140,
     "metadata": {},
     "output_type": "execute_result"
    }
   ],
   "source": [
    "df.describe()"
   ]
  },
  {
   "cell_type": "code",
   "execution_count": 141,
   "id": "16a2bdd3",
   "metadata": {},
   "outputs": [
    {
     "name": "stdout",
     "output_type": "stream",
     "text": [
      "<class 'pandas.core.frame.DataFrame'>\n",
      "RangeIndex: 331 entries, 0 to 330\n",
      "Data columns (total 9 columns):\n",
      " #   Column                  Non-Null Count  Dtype \n",
      "---  ------                  --------------  ----- \n",
      " 0   city                    331 non-null    object\n",
      " 1   state                   331 non-null    object\n",
      " 2   2121 estimate           331 non-null    object\n",
      " 3   2020 census             331 non-null    object\n",
      " 4   change                  331 non-null    object\n",
      " 5   2020landarea1           331 non-null    object\n",
      " 6   2020landarea2           331 non-null    object\n",
      " 7   2020populationdensity1  331 non-null    object\n",
      " 8   2020populationdensity2  331 non-null    object\n",
      "dtypes: object(9)\n",
      "memory usage: 23.4+ KB\n"
     ]
    }
   ],
   "source": [
    "df.info()"
   ]
  },
  {
   "cell_type": "code",
   "execution_count": 139,
   "id": "853a8108",
   "metadata": {},
   "outputs": [
    {
     "data": {
      "text/html": [
       "<div>\n",
       "<style scoped>\n",
       "    .dataframe tbody tr th:only-of-type {\n",
       "        vertical-align: middle;\n",
       "    }\n",
       "\n",
       "    .dataframe tbody tr th {\n",
       "        vertical-align: top;\n",
       "    }\n",
       "\n",
       "    .dataframe thead th {\n",
       "        text-align: right;\n",
       "    }\n",
       "</style>\n",
       "<table border=\"1\" class=\"dataframe\">\n",
       "  <thead>\n",
       "    <tr style=\"text-align: right;\">\n",
       "      <th></th>\n",
       "      <th>city</th>\n",
       "      <th>state</th>\n",
       "      <th>2121 estimate</th>\n",
       "      <th>2020 census</th>\n",
       "      <th>change</th>\n",
       "      <th>2020landarea1</th>\n",
       "      <th>2020landarea2</th>\n",
       "      <th>2020populationdensity1</th>\n",
       "      <th>2020populationdensity2</th>\n",
       "    </tr>\n",
       "  </thead>\n",
       "  <tbody>\n",
       "    <tr>\n",
       "      <th>0</th>\n",
       "      <td>New York[d]</td>\n",
       "      <td>New York</td>\n",
       "      <td>8,467,513</td>\n",
       "      <td>8,804,190</td>\n",
       "      <td>−3.82%</td>\n",
       "      <td>300.5 sq mi</td>\n",
       "      <td>778.3 km2</td>\n",
       "      <td>29,298/sq mi</td>\n",
       "      <td>11,312/km2</td>\n",
       "    </tr>\n",
       "    <tr>\n",
       "      <th>1</th>\n",
       "      <td>Los Angeles</td>\n",
       "      <td>California</td>\n",
       "      <td>3,849,297</td>\n",
       "      <td>3,898,747</td>\n",
       "      <td>−1.27%</td>\n",
       "      <td>469.5 sq mi</td>\n",
       "      <td>1,216.0 km2</td>\n",
       "      <td>8,304/sq mi</td>\n",
       "      <td>3,206/km2</td>\n",
       "    </tr>\n",
       "    <tr>\n",
       "      <th>2</th>\n",
       "      <td>Chicago</td>\n",
       "      <td>Illinois</td>\n",
       "      <td>2,696,555</td>\n",
       "      <td>2,746,388</td>\n",
       "      <td>−1.81%</td>\n",
       "      <td>227.7 sq mi</td>\n",
       "      <td>589.7 km2</td>\n",
       "      <td>12,061/sq mi</td>\n",
       "      <td>4,657/km2</td>\n",
       "    </tr>\n",
       "    <tr>\n",
       "      <th>3</th>\n",
       "      <td>Houston</td>\n",
       "      <td>Texas</td>\n",
       "      <td>2,288,250</td>\n",
       "      <td>2,304,580</td>\n",
       "      <td>−0.71%</td>\n",
       "      <td>640.4 sq mi</td>\n",
       "      <td>1,658.6 km2</td>\n",
       "      <td>3,599/sq mi</td>\n",
       "      <td>1,390/km2</td>\n",
       "    </tr>\n",
       "    <tr>\n",
       "      <th>4</th>\n",
       "      <td>Phoenix</td>\n",
       "      <td>Arizona</td>\n",
       "      <td>1,624,569</td>\n",
       "      <td>1,608,139</td>\n",
       "      <td>+1.02%</td>\n",
       "      <td>518.0 sq mi</td>\n",
       "      <td>1,341.6 km2</td>\n",
       "      <td>3,105/sq mi</td>\n",
       "      <td>1,199/km2</td>\n",
       "    </tr>\n",
       "  </tbody>\n",
       "</table>\n",
       "</div>"
      ],
      "text/plain": [
       "          city       state 2121 estimate 2020 census  change 2020landarea1  \\\n",
       "0  New York[d]    New York     8,467,513   8,804,190  −3.82%   300.5 sq mi   \n",
       "1  Los Angeles  California     3,849,297   3,898,747  −1.27%   469.5 sq mi   \n",
       "2      Chicago    Illinois     2,696,555   2,746,388  −1.81%   227.7 sq mi   \n",
       "3      Houston       Texas     2,288,250   2,304,580  −0.71%   640.4 sq mi   \n",
       "4      Phoenix     Arizona     1,624,569   1,608,139  +1.02%   518.0 sq mi   \n",
       "\n",
       "  2020landarea2 2020populationdensity1 2020populationdensity2  \n",
       "0     778.3 km2           29,298/sq mi             11,312/km2  \n",
       "1   1,216.0 km2            8,304/sq mi              3,206/km2  \n",
       "2     589.7 km2           12,061/sq mi              4,657/km2  \n",
       "3   1,658.6 km2            3,599/sq mi              1,390/km2  \n",
       "4   1,341.6 km2            3,105/sq mi              1,199/km2  "
      ]
     },
     "execution_count": 139,
     "metadata": {},
     "output_type": "execute_result"
    }
   ],
   "source": [
    "df.head()"
   ]
  },
  {
   "cell_type": "code",
   "execution_count": 144,
   "id": "14b3eb07",
   "metadata": {},
   "outputs": [],
   "source": [
    "df.to_csv(\"us-cities-by-population.csv\", index=False)"
   ]
  }
 ],
 "metadata": {
  "kernelspec": {
   "display_name": "Python 3 (ipykernel)",
   "language": "python",
   "name": "python3"
  },
  "language_info": {
   "codemirror_mode": {
    "name": "ipython",
    "version": 3
   },
   "file_extension": ".py",
   "mimetype": "text/x-python",
   "name": "python",
   "nbconvert_exporter": "python",
   "pygments_lexer": "ipython3",
   "version": "3.9.7"
  }
 },
 "nbformat": 4,
 "nbformat_minor": 5
}
